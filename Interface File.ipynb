{
 "cells": [
  {
   "cell_type": "code",
   "execution_count": 14,
   "id": "22cec859",
   "metadata": {},
   "outputs": [
    {
     "data": {
      "application/vnd.jupyter.widget-view+json": {
       "model_id": "d3856b3989314a8d9922ac09ec9606a4",
       "version_major": 2,
       "version_minor": 0
      },
      "text/plain": [
       "FloatText(value=0.0, description='Pregnancies:')"
      ]
     },
     "metadata": {},
     "output_type": "display_data"
    },
    {
     "data": {
      "application/vnd.jupyter.widget-view+json": {
       "model_id": "b85623e148d74ed29bffaf021ce3d9f2",
       "version_major": 2,
       "version_minor": 0
      },
      "text/plain": [
       "FloatText(value=0.0, description='Glucose:')"
      ]
     },
     "metadata": {},
     "output_type": "display_data"
    },
    {
     "data": {
      "application/vnd.jupyter.widget-view+json": {
       "model_id": "4d0b9db541df4063a1cd7b0bb945d69e",
       "version_major": 2,
       "version_minor": 0
      },
      "text/plain": [
       "FloatText(value=0.0, description='Blood Pressure:')"
      ]
     },
     "metadata": {},
     "output_type": "display_data"
    },
    {
     "data": {
      "application/vnd.jupyter.widget-view+json": {
       "model_id": "884425b6809c45c3ae02783655c410ac",
       "version_major": 2,
       "version_minor": 0
      },
      "text/plain": [
       "FloatText(value=0.0, description='Skin Thickness:')"
      ]
     },
     "metadata": {},
     "output_type": "display_data"
    },
    {
     "data": {
      "application/vnd.jupyter.widget-view+json": {
       "model_id": "074521e35ca14a2ca2c0de296ed747d8",
       "version_major": 2,
       "version_minor": 0
      },
      "text/plain": [
       "FloatText(value=0.0, description='Insulin:')"
      ]
     },
     "metadata": {},
     "output_type": "display_data"
    },
    {
     "data": {
      "application/vnd.jupyter.widget-view+json": {
       "model_id": "00aeb39390524308840d92f0b6badd1c",
       "version_major": 2,
       "version_minor": 0
      },
      "text/plain": [
       "FloatText(value=0.0, description='BMI:')"
      ]
     },
     "metadata": {},
     "output_type": "display_data"
    },
    {
     "data": {
      "application/vnd.jupyter.widget-view+json": {
       "model_id": "918690de9f4b49d0b9d96ec5ef41955c",
       "version_major": 2,
       "version_minor": 0
      },
      "text/plain": [
       "FloatText(value=0.0, description='Diabetes Pedigree Function:')"
      ]
     },
     "metadata": {},
     "output_type": "display_data"
    },
    {
     "data": {
      "application/vnd.jupyter.widget-view+json": {
       "model_id": "05dffcdeb24c4047be597b70e59efdda",
       "version_major": 2,
       "version_minor": 0
      },
      "text/plain": [
       "FloatText(value=0.0, description='Age:')"
      ]
     },
     "metadata": {},
     "output_type": "display_data"
    },
    {
     "data": {
      "application/vnd.jupyter.widget-view+json": {
       "model_id": "500412b7326a492281872d7182d0f185",
       "version_major": 2,
       "version_minor": 0
      },
      "text/plain": [
       "Button(description='Predict', style=ButtonStyle())"
      ]
     },
     "metadata": {},
     "output_type": "display_data"
    },
    {
     "data": {
      "application/vnd.jupyter.widget-view+json": {
       "model_id": "e694e1da76754035b3c573fe9cc85246",
       "version_major": 2,
       "version_minor": 0
      },
      "text/plain": [
       "Label(value='')"
      ]
     },
     "metadata": {},
     "output_type": "display_data"
    }
   ],
   "source": [
    "import ipywidgets as widgets\n",
    "from IPython.display import display\n",
    "import pickle\n",
    "import numpy as np\n",
    "from sklearn.preprocessing import StandardScaler\n",
    "\n",
    "def predict_diabetes(user_input):\n",
    "    # Load the pre-trained model\n",
    "    with open('diabetes_model.pkl', 'rb') as f:\n",
    "        model = pickle.load(f)\n",
    "\n",
    "    # Standardize the input\n",
    "    scaler = StandardScaler()\n",
    "    user_input_scaled = scaler.fit_transform(np.asarray(user_input).reshape(1, -1))\n",
    "\n",
    "    # Predict diabetes\n",
    "    prediction = model.predict(user_input_scaled)\n",
    "\n",
    "    # Return prediction\n",
    "    return prediction\n",
    "\n",
    "def on_predict_button_clicked(b):\n",
    "    user_input = [pregnancies.value, glucose.value, blood_pressure.value,\n",
    "                  skin_thickness.value, insulin.value, bmi.value,\n",
    "                  diabetes_pedigree_function.value, age.value]\n",
    "    prediction = predict_diabetes(user_input)\n",
    "    if prediction[0] == 0:\n",
    "        prediction_result.value = \"No diabetes detected.\"\n",
    "    else:\n",
    "        prediction_result.value = \"Diabetes detected.\"\n",
    "\n",
    "pregnancies = widgets.FloatText(description=\"Pregnancies:\")\n",
    "glucose = widgets.FloatText(description=\"Glucose:\")\n",
    "blood_pressure = widgets.FloatText(description=\"Blood Pressure:\")\n",
    "skin_thickness = widgets.FloatText(description=\"Skin Thickness:\")\n",
    "insulin = widgets.FloatText(description=\"Insulin:\")\n",
    "bmi = widgets.FloatText(description=\"BMI:\")\n",
    "diabetes_pedigree_function = widgets.FloatText(description=\"Diabetes Pedigree Function:\")\n",
    "age = widgets.FloatText(description=\"Age:\")\n",
    "\n",
    "predict_button = widgets.Button(description=\"Predict\")\n",
    "predict_button.on_click(on_predict_button_clicked)\n",
    "\n",
    "prediction_result = widgets.Label()\n",
    "\n",
    "display(pregnancies, glucose, blood_pressure, skin_thickness, insulin,\n",
    "        bmi, diabetes_pedigree_function, age, predict_button, prediction_result)"
   ]
  },
  {
   "cell_type": "code",
   "execution_count": null,
   "id": "ecee4ab9",
   "metadata": {},
   "outputs": [],
   "source": []
  }
 ],
 "metadata": {
  "kernelspec": {
   "display_name": "Python 3 (ipykernel)",
   "language": "python",
   "name": "python3"
  },
  "language_info": {
   "codemirror_mode": {
    "name": "ipython",
    "version": 3
   },
   "file_extension": ".py",
   "mimetype": "text/x-python",
   "name": "python",
   "nbconvert_exporter": "python",
   "pygments_lexer": "ipython3",
   "version": "3.10.11"
  }
 },
 "nbformat": 4,
 "nbformat_minor": 5
}
